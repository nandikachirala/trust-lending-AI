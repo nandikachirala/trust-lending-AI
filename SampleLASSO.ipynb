{
 "cells": [
  {
   "cell_type": "code",
   "execution_count": 14,
   "id": "cfddda08-7498-4714-93bf-d2842f4e0b47",
   "metadata": {},
   "outputs": [],
   "source": [
    "import numpy as np\n",
    "import pandas as pd\n",
    "import seaborn as sns\n",
    "from matplotlib import pyplot\n",
    "import sklearn\n",
    "from sklearn.pipeline import Pipeline\n",
    "from sklearn.model_selection import cross_val_score\n",
    "from sklearn.model_selection import RepeatedKFold\n",
    "from sklearn.model_selection import GridSearchCV\n",
    "from sklearn.model_selection import cross_validate\n",
    "from sklearn.model_selection import train_test_split\n",
    "from sklearn.linear_model import Lasso\n",
    "from sklearn.linear_model import LassoCV\n",
    "from sklearn.metrics import \\\n",
    "    r2_score, get_scorer\n",
    "from sklearn.preprocessing import \\\n",
    "    StandardScaler, PolynomialFeatures\n",
    "\n",
    "import warnings\n",
    "warnings.filterwarnings('ignore')"
   ]
  },
  {
   "cell_type": "code",
   "execution_count": null,
   "id": "0ace9dd0-01bc-48a6-bedf-efc1c2c1286f",
   "metadata": {},
   "outputs": [],
   "source": []
  },
  {
   "cell_type": "code",
   "execution_count": 15,
   "id": "b707e9c8-9843-4304-952b-8db8590ef6ef",
   "metadata": {},
   "outputs": [],
   "source": [
    "# load artifical data set into a DataFrame\n",
    "url = \"https://raw.githubusercontent.com/nandikachirala/trust-lending-AI/main/ArtificialData-For-Algorithm.csv\"\n",
    "dataset = pd.read_csv(url)"
   ]
  },
  {
   "cell_type": "code",
   "execution_count": 16,
   "id": "3422416a-153c-46a3-9c05-db3475717d72",
   "metadata": {},
   "outputs": [
    {
     "name": "stdout",
     "output_type": "stream",
     "text": [
      "(484, 6)\n",
      "   Promise5  Promise10  AmountSent  MadePromise5  MadePromise10  \\\n",
      "0         6         16          10             1              1   \n",
      "1        10          0           5             1              0   \n",
      "2         9         12           5             1              1   \n",
      "3        11         20          10             1              1   \n",
      "4         0         17          10             0              1   \n",
      "5         0         12          10             0              1   \n",
      "6         0         25          10             0              1   \n",
      "7         0         14          10             0              1   \n",
      "8         8         14          10             1              1   \n",
      "9         8         13           5             1              1   \n",
      "\n",
      "   AmountReturned  \n",
      "0              16  \n",
      "1              10  \n",
      "2               9  \n",
      "3              20  \n",
      "4              17  \n",
      "5              12  \n",
      "6               3  \n",
      "7              14  \n",
      "8              14  \n",
      "9               8  \n"
     ]
    },
    {
     "data": {
      "text/html": [
       "<div>\n",
       "<style scoped>\n",
       "    .dataframe tbody tr th:only-of-type {\n",
       "        vertical-align: middle;\n",
       "    }\n",
       "\n",
       "    .dataframe tbody tr th {\n",
       "        vertical-align: top;\n",
       "    }\n",
       "\n",
       "    .dataframe thead th {\n",
       "        text-align: right;\n",
       "    }\n",
       "</style>\n",
       "<table border=\"1\" class=\"dataframe\">\n",
       "  <thead>\n",
       "    <tr style=\"text-align: right;\">\n",
       "      <th></th>\n",
       "      <th>Promise5</th>\n",
       "      <th>Promise10</th>\n",
       "      <th>AmountSent</th>\n",
       "      <th>MadePromise5</th>\n",
       "      <th>MadePromise10</th>\n",
       "      <th>AmountReturned</th>\n",
       "    </tr>\n",
       "  </thead>\n",
       "  <tbody>\n",
       "    <tr>\n",
       "      <th>1</th>\n",
       "      <td>10</td>\n",
       "      <td>0</td>\n",
       "      <td>5</td>\n",
       "      <td>1</td>\n",
       "      <td>0</td>\n",
       "      <td>10</td>\n",
       "    </tr>\n",
       "    <tr>\n",
       "      <th>2</th>\n",
       "      <td>9</td>\n",
       "      <td>12</td>\n",
       "      <td>5</td>\n",
       "      <td>1</td>\n",
       "      <td>1</td>\n",
       "      <td>9</td>\n",
       "    </tr>\n",
       "    <tr>\n",
       "      <th>9</th>\n",
       "      <td>8</td>\n",
       "      <td>13</td>\n",
       "      <td>5</td>\n",
       "      <td>1</td>\n",
       "      <td>1</td>\n",
       "      <td>8</td>\n",
       "    </tr>\n",
       "    <tr>\n",
       "      <th>10</th>\n",
       "      <td>9</td>\n",
       "      <td>0</td>\n",
       "      <td>5</td>\n",
       "      <td>1</td>\n",
       "      <td>0</td>\n",
       "      <td>9</td>\n",
       "    </tr>\n",
       "    <tr>\n",
       "      <th>11</th>\n",
       "      <td>12</td>\n",
       "      <td>0</td>\n",
       "      <td>5</td>\n",
       "      <td>1</td>\n",
       "      <td>0</td>\n",
       "      <td>12</td>\n",
       "    </tr>\n",
       "    <tr>\n",
       "      <th>...</th>\n",
       "      <td>...</td>\n",
       "      <td>...</td>\n",
       "      <td>...</td>\n",
       "      <td>...</td>\n",
       "      <td>...</td>\n",
       "      <td>...</td>\n",
       "    </tr>\n",
       "    <tr>\n",
       "      <th>466</th>\n",
       "      <td>12</td>\n",
       "      <td>15</td>\n",
       "      <td>5</td>\n",
       "      <td>1</td>\n",
       "      <td>1</td>\n",
       "      <td>12</td>\n",
       "    </tr>\n",
       "    <tr>\n",
       "      <th>469</th>\n",
       "      <td>9</td>\n",
       "      <td>0</td>\n",
       "      <td>5</td>\n",
       "      <td>1</td>\n",
       "      <td>0</td>\n",
       "      <td>9</td>\n",
       "    </tr>\n",
       "    <tr>\n",
       "      <th>470</th>\n",
       "      <td>9</td>\n",
       "      <td>0</td>\n",
       "      <td>5</td>\n",
       "      <td>1</td>\n",
       "      <td>0</td>\n",
       "      <td>9</td>\n",
       "    </tr>\n",
       "    <tr>\n",
       "      <th>478</th>\n",
       "      <td>6</td>\n",
       "      <td>0</td>\n",
       "      <td>5</td>\n",
       "      <td>1</td>\n",
       "      <td>0</td>\n",
       "      <td>6</td>\n",
       "    </tr>\n",
       "    <tr>\n",
       "      <th>480</th>\n",
       "      <td>0</td>\n",
       "      <td>0</td>\n",
       "      <td>5</td>\n",
       "      <td>0</td>\n",
       "      <td>0</td>\n",
       "      <td>0</td>\n",
       "    </tr>\n",
       "  </tbody>\n",
       "</table>\n",
       "<p>169 rows × 6 columns</p>\n",
       "</div>"
      ],
      "text/plain": [
       "     Promise5  Promise10  AmountSent  MadePromise5  MadePromise10  \\\n",
       "1          10          0           5             1              0   \n",
       "2           9         12           5             1              1   \n",
       "9           8         13           5             1              1   \n",
       "10          9          0           5             1              0   \n",
       "11         12          0           5             1              0   \n",
       "..        ...        ...         ...           ...            ...   \n",
       "466        12         15           5             1              1   \n",
       "469         9          0           5             1              0   \n",
       "470         9          0           5             1              0   \n",
       "478         6          0           5             1              0   \n",
       "480         0          0           5             0              0   \n",
       "\n",
       "     AmountReturned  \n",
       "1                10  \n",
       "2                 9  \n",
       "9                 8  \n",
       "10                9  \n",
       "11               12  \n",
       "..              ...  \n",
       "466              12  \n",
       "469               9  \n",
       "470               9  \n",
       "478               6  \n",
       "480               0  \n",
       "\n",
       "[169 rows x 6 columns]"
      ]
     },
     "execution_count": 16,
     "metadata": {},
     "output_type": "execute_result"
    }
   ],
   "source": [
    "# summarize shape + first few lines\n",
    "print(dataset.shape)\n",
    "print(dataset.head(10))\n",
    "dataset.loc[dataset['AmountSent'] == 5]"
   ]
  },
  {
   "cell_type": "code",
   "execution_count": 17,
   "id": "77d9dc62-ad64-488f-b052-24a808e7354b",
   "metadata": {},
   "outputs": [
    {
     "name": "stdout",
     "output_type": "stream",
     "text": [
      "['Promise5', 'Promise10', 'AmountSent', 'MadePromise5', 'MadePromise10', 'AmountReturned']\n"
     ]
    }
   ],
   "source": [
    "headers = list(dataset)\n",
    "print(headers)\n",
    "data = dataset.values"
   ]
  },
  {
   "cell_type": "code",
   "execution_count": 18,
   "id": "2f6212c2-792a-4e1a-a49b-8814e5ff3a20",
   "metadata": {},
   "outputs": [
    {
     "name": "stdout",
     "output_type": "stream",
     "text": [
      "Mean Absolute Error: 0.643 (0.086)\n",
      "[0.74319281 0.48292904 0.61755224 0.73397196 0.68014473 0.62082296\n",
      " 0.71642537 0.74786884 0.40611324 0.7081892  0.4450918  0.5709716\n",
      " 0.6868564  0.75488916 0.59954779 0.66074291 0.64132589 0.69756108\n",
      " 0.7130625  0.61737704 0.67914465 0.71207368 0.58680991 0.71239748\n",
      " 0.70095556 0.60939177 0.57139946 0.60716345 0.68718489 0.58688678]\n"
     ]
    }
   ],
   "source": [
    "# Evaluating Lasso Model (default Lasso parameter)\n",
    "\n",
    "X, y = data[:, :-1], data[:, -1]\n",
    "\n",
    "#Scale X\n",
    "sc = StandardScaler()\n",
    "X_scaled = sc.fit_transform(X)\n",
    "X_scaled = pd.DataFrame(data = X_scaled)\n",
    "\n",
    "model = Lasso(alpha=1.0)\n",
    "# define model evaluation method\n",
    "cv = RepeatedKFold(n_splits=10, n_repeats=3, random_state=1)\n",
    "# evaluate model\n",
    "scores = cross_val_score(model, X_scaled, y, scoring='r2', cv=cv, n_jobs=-1)\n",
    "# force scores to be positive\n",
    "scores = np.absolute(scores)\n",
    "print('Mean Absolute Error: %.3f (%.3f)' % (np.mean(scores), np.std(scores)))\n",
    "print(scores)"
   ]
  },
  {
   "cell_type": "code",
   "execution_count": 19,
   "id": "270eea53-4036-45c3-aad0-bc0be3f1a2de",
   "metadata": {},
   "outputs": [
    {
     "name": "stdout",
     "output_type": "stream",
     "text": [
      "Predicted: 18.589\n"
     ]
    }
   ],
   "source": [
    "# Using Lasso to make predictions\n",
    "\n",
    "# fit model\n",
    "model.fit(X, y)\n",
    "# new fake data\n",
    "row = [7, 20, 10, 1, 1]\n",
    "# make a prediction\n",
    "yhat = model.predict([row])\n",
    "# summarize prediction\n",
    "print('Predicted: %.3f' % yhat)"
   ]
  },
  {
   "cell_type": "code",
   "execution_count": 20,
   "id": "051d2ffc-8b6a-4506-9d48-a2c1679a6961",
   "metadata": {},
   "outputs": [],
   "source": [
    "# Tuning Hyperparameter Alpha"
   ]
  },
  {
   "cell_type": "code",
   "execution_count": 21,
   "id": "f9d160c8-1b93-4060-a7b3-4ef0e30def3c",
   "metadata": {},
   "outputs": [
    {
     "name": "stdout",
     "output_type": "stream",
     "text": [
      "alpha: 0.030000\n"
     ]
    }
   ],
   "source": [
    "#Use LassoCV class to automatically find good hyperparameters\n",
    "from sklearn.linear_model import LassoCV\n",
    "model = LassoCV(alphas=np.arange(0, 1, 0.01), cv=cv, n_jobs=-1)\n",
    "model.fit(X, y)\n",
    "print('alpha: %f' % model.alpha_)"
   ]
  },
  {
   "cell_type": "code",
   "execution_count": 22,
   "id": "1299ac3a-aa16-4db4-b07c-682986ca0019",
   "metadata": {},
   "outputs": [
    {
     "name": "stdout",
     "output_type": "stream",
     "text": [
      "Predicted: 19.040\n",
      "[ 0.33066889  0.91024821  0.42739431 -0.         -8.00661198]\n",
      "2.252941601399767\n"
     ]
    }
   ],
   "source": [
    "# Making Predictions with Tuned Alpha\n",
    "\n",
    "model = Lasso(alpha=0.03)\n",
    "# fit model\n",
    "model.fit(X, y)\n",
    "# new fake data\n",
    "row = [7, 20, 10, 1, 1]\n",
    "# make a prediction\n",
    "yhat = model.predict([row])\n",
    "# summarize prediction\n",
    "print('Predicted: %.3f' % yhat)\n",
    "print(model.coef_)\n",
    "print(model.intercept_)"
   ]
  },
  {
   "cell_type": "code",
   "execution_count": 23,
   "id": "529d0f62-3559-4cf6-9c0e-b6bee775862c",
   "metadata": {},
   "outputs": [],
   "source": [
    "#Try to form two Lasso models: training Send 5 and Send 10\n",
    "datasetFive = dataset.loc[dataset['AmountSent'] == 5]\n",
    "datasetTen = dataset.loc[dataset['AmountSent'] == 10]\n",
    "dataFive = datasetFive.values\n",
    "dataTen = datasetTen.values"
   ]
  },
  {
   "cell_type": "code",
   "execution_count": 28,
   "id": "4c31c27b-136c-4a0d-b819-eee6edc97684",
   "metadata": {},
   "outputs": [
    {
     "name": "stdout",
     "output_type": "stream",
     "text": [
      "Mean Absolute Error: 0.872 (0.133)\n",
      "alpha: 0.180000\n",
      "Predicted: 9.662\n",
      "[ 0.95142494 -0.          0.          0.         -0.        ]\n",
      "0.1474723127870412\n"
     ]
    }
   ],
   "source": [
    "# Model for 5\n",
    "\n",
    "Xfive, yfive = dataFive[:, :-1], dataFive[:, -1]\n",
    "\n",
    "model = Lasso(alpha=1.0)\n",
    "# define model evaluation method\n",
    "cvFive = RepeatedKFold(n_splits=10, n_repeats=3, random_state=1)\n",
    "# evaluate model\n",
    "scores = cross_val_score(model, Xfive, yfive, scoring='r2', cv=cv, n_jobs=-1)\n",
    "# force scores to be positive\n",
    "scores = np.absolute(scores)\n",
    "print('Mean Absolute Error: %.3f (%.3f)' % (np.mean(scores), np.std(scores)))\n",
    "\n",
    "# tune alpha for 5\n",
    "from sklearn.linear_model import LassoCV\n",
    "modelFive = LassoCV(alphas=np.arange(0, 1, 0.01), cv=cvFive, n_jobs=-1)\n",
    "modelFive.fit(Xfive, yfive)\n",
    "print('alpha: %f' % modelFive.alpha_)\n",
    "\n",
    "# predict using tuned alpha\n",
    "modelFive = Lasso(alpha=0.18)\n",
    "# fit model\n",
    "modelFive.fit(Xfive, yfive)\n",
    "# new fake data\n",
    "row = [10, 20, 5, 1, 1]\n",
    "# make a prediction\n",
    "predictFive = modelFive.predict([row])\n",
    "# summarize prediction\n",
    "print('Predicted: %.3f' % predictFive)\n",
    "print(modelFive.coef_)\n",
    "print(modelFive.intercept_)"
   ]
  },
  {
   "cell_type": "code",
   "execution_count": 29,
   "id": "a59492a8-f432-40df-9278-061afef6ef93",
   "metadata": {},
   "outputs": [
    {
     "name": "stdout",
     "output_type": "stream",
     "text": [
      "Mean Absolute Error: 0.746 (0.221)\n",
      "alpha: 0.030000\n",
      "Predicted: 19.643\n",
      "[ 0.13214656  0.91321253  0.         -0.          0.        ]\n",
      "0.057039738582982835\n"
     ]
    }
   ],
   "source": [
    "# Model for 10\n",
    "\n",
    "Xten, yten = dataTen[:, :-1], dataTen[:, -1]\n",
    "\n",
    "modelTen = Lasso(alpha=1.0)\n",
    "# define model evaluation method\n",
    "cvTen = RepeatedKFold(n_splits=10, n_repeats=3, random_state=1)\n",
    "# evaluate model\n",
    "scores = cross_val_score(modelTen, Xten, yten, scoring='r2', cv=cvTen, n_jobs=-1)\n",
    "# force scores to be positive\n",
    "scores = np.absolute(scores)\n",
    "print('Mean Absolute Error: %.3f (%.3f)' % (np.mean(scores), np.std(scores)))\n",
    "\n",
    "# tune alpha for 10\n",
    "from sklearn.linear_model import LassoCV\n",
    "modelTen = LassoCV(alphas=np.arange(0, 1, 0.01), cv=cvTen, n_jobs=-1)\n",
    "modelTen.fit(Xten, yten)\n",
    "print('alpha: %f' % modelTen.alpha_)\n",
    "\n",
    "# predict using tuned alpha\n",
    "modelTen = Lasso(alpha=0.03)\n",
    "# fit model\n",
    "modelTen.fit(Xten, yten)\n",
    "# new fake data\n",
    "row = [10, 20, 10, 1, 1]\n",
    "# make a prediction\n",
    "predictTen = modelTen.predict([row])\n",
    "# summarize prediction\n",
    "print('Predicted: %.3f' % predictTen)\n",
    "print(modelTen.coef_)\n",
    "print(modelTen.intercept_)"
   ]
  },
  {
   "cell_type": "code",
   "execution_count": 30,
   "id": "0b7fe4ab-01c4-45fe-88e4-2ac533c35f3a",
   "metadata": {},
   "outputs": [
    {
     "name": "stdout",
     "output_type": "stream",
     "text": [
      "19.64275579874844\n",
      "10\n"
     ]
    }
   ],
   "source": [
    "predictFive = float(predictFive) + 5\n",
    "predictTen = float(predictTen)\n",
    "outcomeMap = {10:0, predictFive:5, predictTen:10}\n",
    "bestDecision = max(10, predictFive, predictTen)\n",
    "print(bestDecision)\n",
    "print(outcomeMap[bestDecision])"
   ]
  },
  {
   "cell_type": "code",
   "execution_count": null,
   "id": "27e72efb-2efd-4c30-ae66-fe200e432b26",
   "metadata": {},
   "outputs": [],
   "source": []
  }
 ],
 "metadata": {
  "kernelspec": {
   "display_name": "Python 3 (ipykernel)",
   "language": "python",
   "name": "python3"
  },
  "language_info": {
   "codemirror_mode": {
    "name": "ipython",
    "version": 3
   },
   "file_extension": ".py",
   "mimetype": "text/x-python",
   "name": "python",
   "nbconvert_exporter": "python",
   "pygments_lexer": "ipython3",
   "version": "3.9.12"
  }
 },
 "nbformat": 4,
 "nbformat_minor": 5
}
