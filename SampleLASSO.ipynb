{
 "cells": [
  {
   "cell_type": "code",
   "execution_count": 67,
   "id": "cfddda08-7498-4714-93bf-d2842f4e0b47",
   "metadata": {},
   "outputs": [],
   "source": [
    "import numpy as np\n",
    "import pandas as pd\n",
    "import seaborn as sns\n",
    "from matplotlib import pyplot\n",
    "import sklearn\n",
    "from sklearn.pipeline import Pipeline\n",
    "from sklearn.model_selection import cross_val_score\n",
    "from sklearn.model_selection import RepeatedKFold\n",
    "from sklearn.model_selection import GridSearchCV\n",
    "from sklearn.model_selection import cross_validate\n",
    "from sklearn.model_selection import train_test_split\n",
    "from sklearn.linear_model import Lasso\n",
    "from sklearn.linear_model import LassoCV\n",
    "from sklearn.metrics import \\\n",
    "    r2_score, get_scorer\n",
    "from sklearn.preprocessing import \\\n",
    "    StandardScaler, PolynomialFeatures\n",
    "\n",
    "import warnings\n",
    "\n",
    "def fxn():\n",
    "    warnings.warn(\"deprecated\", DeprecationWarning)\n",
    "\n",
    "with warnings.catch_warnings():\n",
    "    warnings.simplefilter(\"ignore\")\n",
    "    fxn()"
   ]
  },
  {
   "cell_type": "code",
   "execution_count": 68,
   "id": "b707e9c8-9843-4304-952b-8db8590ef6ef",
   "metadata": {},
   "outputs": [],
   "source": [
    "# load artifical data set into a DataFrame\n",
    "url = \"https://raw.githubusercontent.com/nandikachirala/trust-lending-AI/main/ArtificialData-For-Algorithm.csv\"\n",
    "dataset = pd.read_csv(url)"
   ]
  },
  {
   "cell_type": "code",
   "execution_count": 69,
   "id": "3422416a-153c-46a3-9c05-db3475717d72",
   "metadata": {},
   "outputs": [
    {
     "name": "stdout",
     "output_type": "stream",
     "text": [
      "(484, 6)\n",
      "   Promise5  Promise10  AmountSent  MadePromise5  MadePromise10  \\\n",
      "0         6         16          10             1              1   \n",
      "1        10          0           5             1              0   \n",
      "2         9         12           5             1              1   \n",
      "3        11         20          10             1              1   \n",
      "4         0         17          10             0              1   \n",
      "5         0         12          10             0              1   \n",
      "6         0         25          10             0              1   \n",
      "7         0         14          10             0              1   \n",
      "8         8         14          10             1              1   \n",
      "9         8         13           5             1              1   \n",
      "\n",
      "   AmountReturned  \n",
      "0              16  \n",
      "1              10  \n",
      "2               9  \n",
      "3              20  \n",
      "4              17  \n",
      "5              12  \n",
      "6               3  \n",
      "7              14  \n",
      "8              14  \n",
      "9               8  \n"
     ]
    }
   ],
   "source": [
    "# summarize shape + first few lines\n",
    "print(dataset.shape)\n",
    "print(dataset.head(10))"
   ]
  },
  {
   "cell_type": "code",
   "execution_count": 70,
   "id": "77d9dc62-ad64-488f-b052-24a808e7354b",
   "metadata": {},
   "outputs": [
    {
     "name": "stdout",
     "output_type": "stream",
     "text": [
      "['Promise5', 'Promise10', 'AmountSent', 'MadePromise5', 'MadePromise10', 'AmountReturned']\n"
     ]
    }
   ],
   "source": [
    "headers = list(dataset)\n",
    "print(headers)\n",
    "data = dataset.values"
   ]
  },
  {
   "cell_type": "code",
   "execution_count": 71,
   "id": "2f6212c2-792a-4e1a-a49b-8814e5ff3a20",
   "metadata": {},
   "outputs": [
    {
     "name": "stdout",
     "output_type": "stream",
     "text": [
      "Mean Absolute Error: 0.643 (0.086)\n",
      "[0.74319281 0.48292904 0.61755224 0.73397196 0.68014473 0.62082296\n",
      " 0.71642537 0.74786884 0.40611324 0.7081892  0.4450918  0.5709716\n",
      " 0.6868564  0.75488916 0.59954779 0.66074291 0.64132589 0.69756108\n",
      " 0.7130625  0.61737704 0.67914465 0.71207368 0.58680991 0.71239748\n",
      " 0.70095556 0.60939177 0.57139946 0.60716345 0.68718489 0.58688678]\n"
     ]
    }
   ],
   "source": [
    "# Evaluating Lasso Model (default Lasso parameter)\n",
    "\n",
    "X, y = data[:, :-1], data[:, -1]\n",
    "\n",
    "#Scale X\n",
    "sc = StandardScaler()\n",
    "X_scaled = sc.fit_transform(X)\n",
    "X_scaled = pd.DataFrame(data = X_scaled)\n",
    "\n",
    "model = Lasso(alpha=1.0)\n",
    "# define model evaluation method\n",
    "cv = RepeatedKFold(n_splits=10, n_repeats=3, random_state=1)\n",
    "# evaluate model\n",
    "scores = cross_val_score(model, X_scaled, y, scoring='r2', cv=cv, n_jobs=-1)\n",
    "# force scores to be positive\n",
    "scores = np.absolute(scores)\n",
    "print('Mean Absolute Error: %.3f (%.3f)' % (np.mean(scores), np.std(scores)))\n",
    "print(scores)"
   ]
  },
  {
   "cell_type": "code",
   "execution_count": 72,
   "id": "270eea53-4036-45c3-aad0-bc0be3f1a2de",
   "metadata": {},
   "outputs": [
    {
     "name": "stdout",
     "output_type": "stream",
     "text": [
      "Predicted: 17.982\n"
     ]
    }
   ],
   "source": [
    "# Using Lasso to make predictions\n",
    "\n",
    "# fit model\n",
    "model.fit(X, y)\n",
    "# new fake data\n",
    "row = [7, 20, 5, 1, 1]\n",
    "# make a prediction\n",
    "yhat = model.predict([row])\n",
    "# summarize prediction\n",
    "print('Predicted: %.3f' % yhat)"
   ]
  },
  {
   "cell_type": "code",
   "execution_count": 76,
   "id": "051d2ffc-8b6a-4506-9d48-a2c1679a6961",
   "metadata": {},
   "outputs": [],
   "source": [
    "# Tuning Hyperparameter Alpha"
   ]
  },
  {
   "cell_type": "code",
   "execution_count": 64,
   "id": "f9d160c8-1b93-4060-a7b3-4ef0e30def3c",
   "metadata": {},
   "outputs": [
    {
     "name": "stdout",
     "output_type": "stream",
     "text": [
      "alpha: 0.030000\n"
     ]
    }
   ],
   "source": [
    "#Use LassoCV class to automatically find good hyperparameters\n",
    "from sklearn.linear_model import LassoCV\n",
    "model = LassoCV(alphas=np.arange(0, 1, 0.01), cv=cv, n_jobs=-1)\n",
    "model.fit(X, y)\n",
    "print('alpha: %f' % model.alpha_)"
   ]
  },
  {
   "cell_type": "code",
   "execution_count": 81,
   "id": "1299ac3a-aa16-4db4-b07c-682986ca0019",
   "metadata": {},
   "outputs": [
    {
     "name": "stdout",
     "output_type": "stream",
     "text": [
      "Predicted: 11.758\n"
     ]
    }
   ],
   "source": [
    "# Making Predictions with Tuned Alpha\n",
    "\n",
    "model = Lasso(alpha=0.03)\n",
    "# fit model\n",
    "model.fit(X, y)\n",
    "# new fake data\n",
    "row = [7, 12, 10, 1, 1]\n",
    "# make a prediction\n",
    "yhat = model.predict([row])\n",
    "# summarize prediction\n",
    "print('Predicted: %.3f' % yhat)"
   ]
  },
  {
   "cell_type": "code",
   "execution_count": null,
   "id": "529d0f62-3559-4cf6-9c0e-b6bee775862c",
   "metadata": {},
   "outputs": [],
   "source": []
  },
  {
   "cell_type": "code",
   "execution_count": null,
   "id": "4c31c27b-136c-4a0d-b819-eee6edc97684",
   "metadata": {},
   "outputs": [],
   "source": []
  },
  {
   "cell_type": "code",
   "execution_count": null,
   "id": "a59492a8-f432-40df-9278-061afef6ef93",
   "metadata": {},
   "outputs": [],
   "source": []
  },
  {
   "cell_type": "code",
   "execution_count": null,
   "id": "0b7fe4ab-01c4-45fe-88e4-2ac533c35f3a",
   "metadata": {},
   "outputs": [],
   "source": []
  },
  {
   "cell_type": "code",
   "execution_count": null,
   "id": "27e72efb-2efd-4c30-ae66-fe200e432b26",
   "metadata": {},
   "outputs": [],
   "source": []
  }
 ],
 "metadata": {
  "kernelspec": {
   "display_name": "Python 3 (ipykernel)",
   "language": "python",
   "name": "python3"
  },
  "language_info": {
   "codemirror_mode": {
    "name": "ipython",
    "version": 3
   },
   "file_extension": ".py",
   "mimetype": "text/x-python",
   "name": "python",
   "nbconvert_exporter": "python",
   "pygments_lexer": "ipython3",
   "version": "3.9.12"
  }
 },
 "nbformat": 4,
 "nbformat_minor": 5
}
